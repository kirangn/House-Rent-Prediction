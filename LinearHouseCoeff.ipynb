{
 "cells": [
  {
   "cell_type": "code",
   "execution_count": 1,
   "id": "1a8e4815",
   "metadata": {},
   "outputs": [],
   "source": [
    "import pandas as pd\n",
    "import numpy as np\n",
    "import altair as alt\n",
    "import matplotlib.pyplot as plt\n",
    "import seaborn as sns\n",
    "from sklearn.metrics import accuracy_score\n",
    "from sklearn.model_selection import train_test_split\n",
    "from sklearn.preprocessing import StandardScaler\n",
    "from sklearn.decomposition import PCA\n",
    "from sklearn.linear_model import LogisticRegression\n",
    "from sklearn.linear_model import LinearRegression\n",
    "from sklearn.svm import SVC\n",
    "from sklearn.neighbors import KNeighborsClassifier"
   ]
  },
  {
   "cell_type": "code",
   "execution_count": 2,
   "id": "1efedb38",
   "metadata": {},
   "outputs": [],
   "source": [
    "filename=\"train.csv\"\n",
    "df = pd.read_csv(filename)"
   ]
  },
  {
   "cell_type": "code",
   "execution_count": 3,
   "id": "4f9967c8",
   "metadata": {},
   "outputs": [
    {
     "name": "stdout",
     "output_type": "stream",
     "text": [
      "{'MSZoning': {'RL': 1, 'RM': 2, 'C (all)': 3, 'FV': 4, 'RH': 5}, 'Street': {'Pave': 1, 'Grvl': 2}, 'Alley': {nan: 1, 'Grvl': 2, 'Pave': 3}, 'LotShape': {'Reg': 1, 'IR1': 2, 'IR2': 3, 'IR3': 4}, 'LandContour': {'Lvl': 1, 'Bnk': 2, 'Low': 3, 'HLS': 4}, 'Utilities': {'AllPub': 1, 'NoSeWa': 2}, 'LotConfig': {'Inside': 1, 'FR2': 2, 'Corner': 3, 'CulDSac': 4, 'FR3': 5}, 'LandSlope': {'Gtl': 1, 'Mod': 2, 'Sev': 3}, 'Neighborhood': {'CollgCr': 1, 'Veenker': 2, 'Crawfor': 3, 'NoRidge': 4, 'Mitchel': 5, 'Somerst': 6, 'NWAmes': 7, 'OldTown': 8, 'BrkSide': 9, 'Sawyer': 10, 'NridgHt': 11, 'NAmes': 12, 'SawyerW': 13, 'IDOTRR': 14, 'MeadowV': 15, 'Edwards': 16, 'Timber': 17, 'Gilbert': 18, 'StoneBr': 19, 'ClearCr': 20, 'NPkVill': 21, 'Blmngtn': 22, 'BrDale': 23, 'SWISU': 24, 'Blueste': 25}, 'Condition1': {'Norm': 1, 'Feedr': 2, 'PosN': 3, 'Artery': 4, 'RRAe': 5, 'RRNn': 6, 'RRAn': 7, 'PosA': 8, 'RRNe': 9}, 'Condition2': {'Norm': 1, 'Artery': 2, 'RRNn': 3, 'Feedr': 4, 'PosN': 5, 'PosA': 6, 'RRAn': 7, 'RRAe': 8}, 'BldgType': {'1Fam': 1, '2fmCon': 2, 'Duplex': 3, 'TwnhsE': 4, 'Twnhs': 5}, 'HouseStyle': {'2Story': 1, '1Story': 2, '1.5Fin': 3, '1.5Unf': 4, 'SFoyer': 5, 'SLvl': 6, '2.5Unf': 7, '2.5Fin': 8}, 'RoofStyle': {'Gable': 1, 'Hip': 2, 'Gambrel': 3, 'Mansard': 4, 'Flat': 5, 'Shed': 6}, 'RoofMatl': {'CompShg': 1, 'WdShngl': 2, 'Metal': 3, 'WdShake': 4, 'Membran': 5, 'Tar&Grv': 6, 'Roll': 7, 'ClyTile': 8}, 'Exterior1st': {'VinylSd': 1, 'MetalSd': 2, 'Wd Sdng': 3, 'HdBoard': 4, 'BrkFace': 5, 'WdShing': 6, 'CemntBd': 7, 'Plywood': 8, 'AsbShng': 9, 'Stucco': 10, 'BrkComm': 11, 'AsphShn': 12, 'Stone': 13, 'ImStucc': 14, 'CBlock': 15}, 'Exterior2nd': {'VinylSd': 1, 'MetalSd': 2, 'Wd Shng': 3, 'HdBoard': 4, 'Plywood': 5, 'Wd Sdng': 6, 'CmentBd': 7, 'BrkFace': 8, 'Stucco': 9, 'AsbShng': 10, 'Brk Cmn': 11, 'ImStucc': 12, 'AsphShn': 13, 'Stone': 14, 'Other': 15, 'CBlock': 16}, 'MasVnrType': {'BrkFace': 1, 'None': 2, 'Stone': 3, 'BrkCmn': 4, nan: 5}, 'ExterQual': {'Gd': 1, 'TA': 2, 'Ex': 3, 'Fa': 4}, 'ExterCond': {'TA': 1, 'Gd': 2, 'Fa': 3, 'Po': 4, 'Ex': 5}, 'Foundation': {'PConc': 1, 'CBlock': 2, 'BrkTil': 3, 'Wood': 4, 'Slab': 5, 'Stone': 6}, 'BsmtQual': {'Gd': 1, 'TA': 2, 'Ex': 3, nan: 4, 'Fa': 5}, 'BsmtCond': {'TA': 1, 'Gd': 2, nan: 3, 'Fa': 4, 'Po': 5}, 'BsmtExposure': {'No': 1, 'Gd': 2, 'Mn': 3, 'Av': 4, nan: 5}, 'BsmtFinType1': {'GLQ': 1, 'ALQ': 2, 'Unf': 3, 'Rec': 4, 'BLQ': 5, nan: 6, 'LwQ': 7}, 'BsmtFinType2': {'Unf': 1, 'BLQ': 2, nan: 3, 'ALQ': 4, 'Rec': 5, 'LwQ': 6, 'GLQ': 7}, 'Heating': {'GasA': 1, 'GasW': 2, 'Grav': 3, 'Wall': 4, 'OthW': 5, 'Floor': 6}, 'HeatingQC': {'Ex': 1, 'Gd': 2, 'TA': 3, 'Fa': 4, 'Po': 5}, 'CentralAir': {'Y': 1, 'N': 2}, 'Electrical': {'SBrkr': 1, 'FuseF': 2, 'FuseA': 3, 'FuseP': 4, 'Mix': 5, nan: 6}, 'KitchenQual': {'Gd': 1, 'TA': 2, 'Ex': 3, 'Fa': 4}, 'Functional': {'Typ': 1, 'Min1': 2, 'Maj1': 3, 'Min2': 4, 'Mod': 5, 'Maj2': 6, 'Sev': 7}, 'FireplaceQu': {nan: 1, 'TA': 2, 'Gd': 3, 'Fa': 4, 'Ex': 5, 'Po': 6}, 'GarageType': {'Attchd': 1, 'Detchd': 2, 'BuiltIn': 3, 'CarPort': 4, nan: 5, 'Basment': 6, '2Types': 7}, 'GarageFinish': {'RFn': 1, 'Unf': 2, 'Fin': 3, nan: 4}, 'GarageQual': {'TA': 1, 'Fa': 2, 'Gd': 3, nan: 4, 'Ex': 5, 'Po': 6}, 'GarageCond': {'TA': 1, 'Fa': 2, nan: 3, 'Gd': 4, 'Po': 5, 'Ex': 6}, 'PavedDrive': {'Y': 1, 'N': 2, 'P': 3}, 'PoolQC': {nan: 1, 'Ex': 2, 'Fa': 3, 'Gd': 4}, 'Fence': {nan: 1, 'MnPrv': 2, 'GdWo': 3, 'GdPrv': 4, 'MnWw': 5}, 'MiscFeature': {nan: 1, 'Shed': 2, 'Gar2': 3, 'Othr': 4, 'TenC': 5}, 'SaleType': {'WD': 1, 'New': 2, 'COD': 3, 'ConLD': 4, 'ConLI': 5, 'CWD': 6, 'ConLw': 7, 'Con': 8, 'Oth': 9}, 'SaleCondition': {'Normal': 1, 'Abnorml': 2, 'Partial': 3, 'AdjLand': 4, 'Alloca': 5, 'Family': 6}}\n"
     ]
    }
   ],
   "source": [
    "import numpy \n",
    "\n",
    "def getEncodings(dataframe):\n",
    "    encodings = {}\n",
    "    for column in dataframe.columns:\n",
    "        column_values = df[column]\n",
    "        #print(type(column_values[0]))\n",
    "        #print(column)\n",
    "        if isinstance(column_values[0],str) or column==\"Alley\" or column==\"FireplaceQu\" or column==\"PoolQC\" or column==\"Fence\" or column==\"MiscFeature\":  \n",
    "            encoder = {}\n",
    "            counter = 1\n",
    "            for value in column_values.unique():\n",
    "                encoder[value]=counter\n",
    "                counter = counter + 1\n",
    "            encodings[column]= encoder\n",
    "    return encodings\n",
    "\n",
    "encodings = getEncodings(df)\n",
    "print(encodings)"
   ]
  },
  {
   "cell_type": "code",
   "execution_count": 4,
   "id": "f655084b",
   "metadata": {},
   "outputs": [
    {
     "name": "stdout",
     "output_type": "stream",
     "text": [
      "Index(['MSSubClass', 'MSZoning', 'LotFrontage', 'LotArea', 'Street', 'Alley',\n",
      "       'LotShape', 'LandContour', 'Utilities', 'LotConfig', 'LandSlope',\n",
      "       'Neighborhood', 'Condition1', 'Condition2', 'BldgType', 'HouseStyle',\n",
      "       'OverallQual', 'OverallCond', 'YearBuilt', 'YearRemodAdd', 'RoofStyle',\n",
      "       'RoofMatl', 'Exterior1st', 'Exterior2nd', 'MasVnrType', 'MasVnrArea',\n",
      "       'ExterQual', 'ExterCond', 'Foundation', 'BsmtQual', 'BsmtCond',\n",
      "       'BsmtExposure', 'BsmtFinType1', 'BsmtFinSF1', 'BsmtFinSF2', 'BsmtUnfSF',\n",
      "       'TotalBsmtSF', 'Heating', 'HeatingQC', 'CentralAir', 'Electrical',\n",
      "       '1stFlrSF', '2ndFlrSF', 'LowQualFinSF', 'GrLivArea', 'BsmtFullBath',\n",
      "       'BsmtHalfBath', 'FullBath', 'HalfBath', 'BedroomAbvGr', 'KitchenAbvGr',\n",
      "       'KitchenQual', 'Functional', 'FireplaceQu', 'GarageType',\n",
      "       'GarageFinish', 'GarageCars', 'GarageArea', 'GarageQual', 'GarageCond',\n",
      "       'PavedDrive', 'WoodDeckSF', 'OpenPorchSF', 'EnclosedPorch', '3SsnPorch',\n",
      "       'ScreenPorch', 'PoolQC', 'Fence', 'MoSold', 'YrSold', 'SaleType',\n",
      "       'SaleCondition', 'SalePrice'],\n",
      "      dtype='object')\n"
     ]
    }
   ],
   "source": [
    "def applyEncodings(dataframe,encodings):\n",
    "    return dataframe.replace(encodings)\n",
    "clean_column=applyEncodings(df,encodings).fillna(0)\n",
    "clean_column=pd.DataFrame(clean_column)\n",
    "clean_column.to_csv(\"cleanit.csv\")\n",
    "\n",
    "clean_column.drop(['MiscFeature','MiscVal','Fireplaces','BsmtFinType2','PoolArea','TotRmsAbvGrd','GarageYrBlt','Id'], inplace=True, axis=1)\n",
    "features=clean_column #copy of the data\n",
    "main_target_price = clean_column.filter([['SalePrice']])\n",
    "main_overall_condition=clean_column.filter(['OverallQual'])\n",
    "print(clean_column.columns)\n",
    "#features.drop('SalePrice', inplace=True, axis=1)\n",
    "\n",
    "\n",
    "\n",
    "\n",
    "\n"
   ]
  },
  {
   "cell_type": "code",
   "execution_count": 5,
   "id": "4dec12cc",
   "metadata": {},
   "outputs": [],
   "source": [
    "#main_target_price = clean_column.filter(['SalePrice'])\n",
    "#main_overall_condition=clean_column.filter(['OverallQual'])\n",
    "\n",
    "\n",
    "train_data, test_data, train_target, test_target = train_test_split( main_overall_condition, main_target_price, test_size=0.3, random_state=0)"
   ]
  },
  {
   "cell_type": "code",
   "execution_count": 38,
   "id": "85ee7193",
   "metadata": {},
   "outputs": [
    {
     "data": {
      "text/plain": [
       "[<matplotlib.lines.Line2D at 0x280011780>]"
      ]
     },
     "execution_count": 38,
     "metadata": {},
     "output_type": "execute_result"
    },
    {
     "data": {
      "image/png": "[encoded data removed]",
      "text/plain": [
       "<Figure size 432x288 with 1 Axes>"
      ]
     },
     "metadata": {
      "needs_background": "light"
     },
     "output_type": "display_data"
    }
   ],
   "source": [
    "lr=LinearRegression()\n",
    "lr.fit(train_data,train_target)\n",
    "#print(type(train_data))\n",
    "y=lr.predict(train_data)\n",
    "#print(len(test_target))\n",
    "plt.scatter(train_data, train_target, color = \"red\")\n",
    "plt.plot(train_data.to_numpy(), y, color = \"green\")\n",
    "# plt.title(\"Salary vs Experience (Training set)\")\n",
    "# plt.xlabel(\"Years of Experience\")\n",
    "# plt.ylabel(\"Salary\")\n",
    "# plt.show()"
   ]
  },
  {
   "cell_type": "code",
   "execution_count": 40,
   "id": "ad4d40d0",
   "metadata": {},
   "outputs": [
    {
     "data": {
      "image/png": "[encoded data removed]",
      "text/plain": [
       "<Figure size 432x288 with 1 Axes>"
      ]
     },
     "metadata": {
      "needs_background": "light"
     },
     "output_type": "display_data"
    }
   ],
   "source": [
    "\n",
    "\n",
    "plt.scatter(test_data, test_target, color = \"blue\")\n",
    "plt.plot(train_data.to_numpy(), y, color = \"green\")\n",
    "plt.title(\"OverallCondition vs Saleprice (Testing set)\")\n",
    "plt.xlabel(\"OverallCondition\")\n",
    "plt.ylabel(\"Saleprice\")\n",
    "plt.show()\n"
   ]
  },
  {
   "cell_type": "code",
   "execution_count": null,
   "id": "3c93c392",
   "metadata": {},
   "outputs": [],
   "source": []
  }
 ],
 "metadata": {
  "kernelspec": {
   "display_name": "Python 3 (ipykernel)",
   "language": "python",
   "name": "python3"
  },
  "language_info": {
   "codemirror_mode": {
    "name": "ipython",
    "version": 3
   },
   "file_extension": ".py",
   "mimetype": "text/x-python",
   "name": "python",
   "nbconvert_exporter": "python",
   "pygments_lexer": "ipython3",
   "version": "3.10.1"
  }
 },
 "nbformat": 4,
 "nbformat_minor": 5
}
